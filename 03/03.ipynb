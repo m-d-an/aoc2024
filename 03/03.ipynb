{
 "cells": [
  {
   "cell_type": "code",
   "execution_count": 1,
   "metadata": {},
   "outputs": [],
   "source": [
    "import re"
   ]
  },
  {
   "cell_type": "code",
   "execution_count": 2,
   "metadata": {},
   "outputs": [],
   "source": [
    "file = open('input/input.txt', 'r')\n",
    "lines = file.readlines()"
   ]
  },
  {
   "cell_type": "code",
   "execution_count": 3,
   "metadata": {},
   "outputs": [
    {
     "name": "stdout",
     "output_type": "stream",
     "text": [
      "188192787\n"
     ]
    }
   ],
   "source": [
    "#a:\n",
    "sum = 0\n",
    "for line in lines:\n",
    "    split = line.split()\n",
    "    muls = re.findall('mul\\(\\d{1,3},\\d{1,3}\\)',line)\n",
    "    for x in muls:\n",
    "        first = x.split(',')[0].split('(')[1]\n",
    "        second = x.split(',')[1].split(')')[0]\n",
    "        #print(x, first, second)\n",
    "        sum += int(first) * int(second)\n",
    "print(sum)"
   ]
  },
  {
   "cell_type": "code",
   "execution_count": 4,
   "metadata": {},
   "outputs": [
    {
     "name": "stdout",
     "output_type": "stream",
     "text": [
      "113965544\n"
     ]
    }
   ],
   "source": [
    "#b:\n",
    "sum = 0\n",
    "do = True\n",
    "for line in lines:\n",
    "    split = line.split()\n",
    "    regexes = re.findall('mul\\(\\d{1,3},\\d{1,3}\\)|do\\(\\)|don\\'t\\(\\)',line)\n",
    "    #print(regexes)\n",
    "    for x in regexes:\n",
    "        if x == \"don't()\":\n",
    "            do = False\n",
    "        elif x == \"do()\":\n",
    "            do = True\n",
    "        else:\n",
    "            if do:\n",
    "                first = x.split(',')[0].split('(')[1]\n",
    "                second = x.split(',')[1].split(')')[0]\n",
    "                #print(x, first, second)\n",
    "                sum += int(first) * int(second)\n",
    "print(sum)"
   ]
  }
 ],
 "metadata": {
  "kernelspec": {
   "display_name": "venv",
   "language": "python",
   "name": "python3"
  },
  "language_info": {
   "codemirror_mode": {
    "name": "ipython",
    "version": 3
   },
   "file_extension": ".py",
   "mimetype": "text/x-python",
   "name": "python",
   "nbconvert_exporter": "python",
   "pygments_lexer": "ipython3",
   "version": "3.10.8"
  }
 },
 "nbformat": 4,
 "nbformat_minor": 2
}
