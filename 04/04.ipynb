{
 "cells": [
  {
   "cell_type": "code",
   "execution_count": 1,
   "metadata": {},
   "outputs": [],
   "source": [
    "file = open('input/input.txt', 'r')\n",
    "lines = file.readlines()"
   ]
  },
  {
   "cell_type": "code",
   "execution_count": 2,
   "metadata": {},
   "outputs": [],
   "source": [
    "#read input:\n",
    "letters = []\n",
    "for line in lines:\n",
    "    row = []\n",
    "    for c in line.strip():\n",
    "        row.append(c)\n",
    "    letters.append(row)"
   ]
  },
  {
   "cell_type": "markdown",
   "metadata": {},
   "source": [
    "### Part A:"
   ]
  },
  {
   "cell_type": "code",
   "execution_count": 3,
   "metadata": {},
   "outputs": [],
   "source": [
    "# definitions\n",
    "word = 'XMAS'\n",
    "rows = len(letters)\n",
    "cols = len(letters[0])"
   ]
  },
  {
   "cell_type": "code",
   "execution_count": 4,
   "metadata": {},
   "outputs": [],
   "source": [
    "# directions\n",
    "dirs = {'L': (0,-1),\n",
    "        'UL': (-1,-1),\n",
    "        'U': (-1,0),\n",
    "        'UR': (-1,+1),\n",
    "        'R': (0,+1),\n",
    "        'DR': (+1,+1),\n",
    "        'D': (+1,0),\n",
    "        'DL': (+1,-1)}"
   ]
  },
  {
   "cell_type": "code",
   "execution_count": 5,
   "metadata": {},
   "outputs": [],
   "source": [
    "# recursive function to look into a direction\n",
    "def look_for_next_character(c,y,x,direction):\n",
    "    if y < 0 or y >= rows or x < 0 or x >= cols:\n",
    "        return False\n",
    "    if letters[y][x] == word[c]:\n",
    "        if c == len(word)-1:\n",
    "            #print(c,y,x,direction)\n",
    "            return True\n",
    "        else:\n",
    "            return look_for_next_character(c+1,y+direction[0],x+direction[1],direction)\n",
    "    else:\n",
    "        return False"
   ]
  },
  {
   "cell_type": "code",
   "execution_count": 6,
   "metadata": {},
   "outputs": [
    {
     "name": "stdout",
     "output_type": "stream",
     "text": [
      "Number of occurences: 2532\n"
     ]
    }
   ],
   "source": [
    "occurences = 0\n",
    "for y,row in enumerate(letters):\n",
    "    for x,c in enumerate(row):\n",
    "        if c == word[0]:\n",
    "            for v in dirs.items():\n",
    "                direction = v[1]\n",
    "                if look_for_next_character(1,y+direction[0],x+direction[1], direction):\n",
    "                    occurences += 1\n",
    "print(\"Number of occurences: \"+str(occurences))\n"
   ]
  },
  {
   "cell_type": "markdown",
   "metadata": {},
   "source": [
    "### Part B:"
   ]
  },
  {
   "cell_type": "code",
   "execution_count": 7,
   "metadata": {},
   "outputs": [],
   "source": [
    "def check_MAS(y,x):\n",
    "    if y < 1 or y >= rows-1 or x-1 < 0 or x >= cols-1:\n",
    "        return False\n",
    "    if (letters[y-1][x-1] == 'M' and letters[y+1][x+1] == 'S') or (letters[y-1][x-1] == 'S' and letters[y+1][x+1] == 'M'):\n",
    "        if (letters[y-1][x+1] == 'M' and letters[y+1][x-1] == 'S') or (letters[y-1][x+1] == 'S' and letters[y+1][x-1] == 'M'):\n",
    "            return True\n",
    "    return False\n",
    "    "
   ]
  },
  {
   "cell_type": "code",
   "execution_count": 8,
   "metadata": {},
   "outputs": [
    {
     "name": "stdout",
     "output_type": "stream",
     "text": [
      "Number of occurences: 1941\n"
     ]
    }
   ],
   "source": [
    "occurences = 0\n",
    "for y,row in enumerate(letters):\n",
    "    for x,c in enumerate(row):\n",
    "        if c == 'A':\n",
    "            if check_MAS(y,x):\n",
    "                occurences += 1\n",
    "print(\"Number of occurences: \"+str(occurences))\n"
   ]
  }
 ],
 "metadata": {
  "kernelspec": {
   "display_name": "venv",
   "language": "python",
   "name": "python3"
  },
  "language_info": {
   "codemirror_mode": {
    "name": "ipython",
    "version": 3
   },
   "file_extension": ".py",
   "mimetype": "text/x-python",
   "name": "python",
   "nbconvert_exporter": "python",
   "pygments_lexer": "ipython3",
   "version": "3.10.8"
  }
 },
 "nbformat": 4,
 "nbformat_minor": 2
}
