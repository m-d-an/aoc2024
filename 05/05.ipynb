{
 "cells": [
  {
   "cell_type": "code",
   "execution_count": 1,
   "metadata": {},
   "outputs": [],
   "source": [
    "file = open('input/input.txt', 'r')\n",
    "lines = file.readlines()"
   ]
  },
  {
   "cell_type": "code",
   "execution_count": 2,
   "metadata": {},
   "outputs": [],
   "source": [
    "#read input:\n",
    "rules = {}\n",
    "updates = []\n",
    "second_part = False\n",
    "for line in lines:\n",
    "    # divider\n",
    "    if len(line.strip()) == 0:\n",
    "        second_part = True\n",
    "        continue\n",
    "    # sequence rules\n",
    "    if not second_part:\n",
    "        rule = line.strip().split('|')\n",
    "        if rule[0] in rules:\n",
    "            rules[rule[0]].append(rule[1])\n",
    "        else:\n",
    "            rules[rule[0]] = [rule[1]]\n",
    "    # updates\n",
    "    else:\n",
    "        updates.append(line.strip().split(','))\n"
   ]
  },
  {
   "cell_type": "markdown",
   "metadata": {},
   "source": [
    "### Part A:"
   ]
  },
  {
   "cell_type": "code",
   "execution_count": 3,
   "metadata": {},
   "outputs": [],
   "source": [
    "def check_if_ordered_correctly(page, subsequent_pages):\n",
    "    #print(subsequent_pages)\n",
    "    for ssp in subsequent_pages:\n",
    "        #print(rules[ssp])\n",
    "        if ssp in rules:\n",
    "            if page in rules[ssp]:\n",
    "                return False\n",
    "    return True\n"
   ]
  },
  {
   "cell_type": "code",
   "execution_count": 4,
   "metadata": {},
   "outputs": [
    {
     "name": "stdout",
     "output_type": "stream",
     "text": [
      "Sum of middle page numbers: 5087\n"
     ]
    }
   ],
   "source": [
    "# check updates\n",
    "sum = 0\n",
    "incorrect_updates = []\n",
    "for update in updates:\n",
    "    #print(update)\n",
    "    correct_order = True\n",
    "    for i, entry in enumerate(update):\n",
    "        # check if page order is correct before subsequent pages \n",
    "        if not check_if_ordered_correctly(entry, update[i+1:]):\n",
    "            #print(\"update is not in correct order\")\n",
    "            correct_order = False\n",
    "            incorrect_updates.append(update)\n",
    "            break\n",
    "    if correct_order:\n",
    "        #print(\"update is in correct order\")\n",
    "        sum += int(update[len(update)//2])\n",
    "print(\"Sum of middle page numbers: \"+str(sum))"
   ]
  },
  {
   "cell_type": "markdown",
   "metadata": {},
   "source": [
    "### Part B:"
   ]
  },
  {
   "cell_type": "code",
   "execution_count": 5,
   "metadata": {},
   "outputs": [],
   "source": [
    "def find_next_page(pages_to_place):\n",
    "    for page in pages_to_place:\n",
    "        if check_if_ordered_correctly(page, pages_to_place):\n",
    "            return page"
   ]
  },
  {
   "cell_type": "code",
   "execution_count": 6,
   "metadata": {},
   "outputs": [
    {
     "name": "stdout",
     "output_type": "stream",
     "text": [
      "Sum of middle page numbers: 4971\n"
     ]
    }
   ],
   "source": [
    "sum = 0\n",
    "for update in incorrect_updates:\n",
    "    pages_to_place = update.copy()\n",
    "    #print(pages_to_place)\n",
    "    new_order = []\n",
    "    while len(pages_to_place) > 0:\n",
    "        page = find_next_page(pages_to_place)\n",
    "        new_order.append(page)\n",
    "        pages_to_place.remove(page)\n",
    "    #print(new_order)\n",
    "    sum += int(new_order[len(new_order)//2])\n",
    "print(\"Sum of middle page numbers: \"+str(sum))"
   ]
  }
 ],
 "metadata": {
  "kernelspec": {
   "display_name": "venv",
   "language": "python",
   "name": "python3"
  },
  "language_info": {
   "codemirror_mode": {
    "name": "ipython",
    "version": 3
   },
   "file_extension": ".py",
   "mimetype": "text/x-python",
   "name": "python",
   "nbconvert_exporter": "python",
   "pygments_lexer": "ipython3",
   "version": "3.10.8"
  }
 },
 "nbformat": 4,
 "nbformat_minor": 2
}
