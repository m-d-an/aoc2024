{
 "cells": [
  {
   "cell_type": "code",
   "execution_count": 64,
   "metadata": {},
   "outputs": [],
   "source": [
    "file = open('input/example.txt', 'r')\n",
    "lines = file.readlines()"
   ]
  },
  {
   "cell_type": "code",
   "execution_count": 65,
   "metadata": {},
   "outputs": [],
   "source": [
    "#read input:\n",
    "obstacles = []\n",
    "guard_position = None\n",
    "guard_orientation = None\n",
    "for y, line in enumerate(lines):\n",
    "    for x, c in enumerate(line):\n",
    "        if c == '#':\n",
    "            obstacles.append((x,y))\n",
    "        elif c == '^':\n",
    "            guard_position = (x,y)\n",
    "            # orientation represented as next tile\n",
    "            guard_orientation = (0,-1)\n"
   ]
  },
  {
   "cell_type": "code",
   "execution_count": 66,
   "metadata": {},
   "outputs": [],
   "source": [
    "def print_grid():\n",
    "    for y in range(len(lines)):\n",
    "        l = \"\"\n",
    "        for x in range(len(lines[0])-1):\n",
    "            if (x,y) in obstacles:\n",
    "                l += \"#\"\n",
    "            elif guard_position == (x,y):\n",
    "                l += \"^\"\n",
    "            else:\n",
    "                l += \".\"\n",
    "        print(l)"
   ]
  },
  {
   "cell_type": "markdown",
   "metadata": {},
   "source": [
    "### Part A:"
   ]
  },
  {
   "cell_type": "code",
   "execution_count": 67,
   "metadata": {},
   "outputs": [],
   "source": [
    "def turn_right(orientation):\n",
    "    if orientation == (0,-1):\n",
    "        return (1,0)\n",
    "    elif orientation == (1,0):\n",
    "        return (0,1)\n",
    "    elif orientation == (0,1):\n",
    "        return (-1,0)\n",
    "    elif orientation == (-1,0):\n",
    "        return (0,-1)"
   ]
  },
  {
   "cell_type": "code",
   "execution_count": 68,
   "metadata": {},
   "outputs": [],
   "source": [
    "def check_path(guard_position, guard_orientation, new_obstacle = None):\n",
    "    visited_tiles = []\n",
    "    visited_orienations = []\n",
    "    while guard_position != 0:\n",
    "        # already visited in same orientation?\n",
    "        indices = [i for i, x in enumerate(visited_tiles) if x == guard_position]\n",
    "        for i in indices:\n",
    "            if visited_orienations[i] == guard_orientation:\n",
    "                print(guard_position, guard_orientation)\n",
    "                return visited_tiles\n",
    "\n",
    "        visited_tiles.append(guard_position)\n",
    "        visited_orienations.append(guard_orientation)\n",
    "\n",
    "        new_pos = (guard_position[0] + guard_orientation[0], guard_position[1] + guard_orientation[1])\n",
    "        if new_pos[0] < 0 or new_pos[0] >= len(lines[0].strip()) or new_pos[1] < 0 or new_pos[1] >= len(lines):\n",
    "            guard_position = 0\n",
    "            break\n",
    "        elif new_pos in obstacles or (new_obstacle is not None and new_pos == new_obstacle):\n",
    "            guard_orientation = turn_right(guard_orientation)\n",
    "            continue\n",
    "        else:\n",
    "            guard_position = new_pos\n",
    "    return visited_tiles"
   ]
  },
  {
   "cell_type": "code",
   "execution_count": 69,
   "metadata": {},
   "outputs": [
    {
     "name": "stdout",
     "output_type": "stream",
     "text": [
      "(4, 6) (0, -1)\n",
      "22\n",
      "18\n"
     ]
    }
   ],
   "source": [
    "visited = check_path(guard_position, guard_orientation, (3,6))\n",
    "print (len(visited))\n",
    "print(len(set(visited)))\n"
   ]
  },
  {
   "cell_type": "markdown",
   "metadata": {},
   "source": [
    "### Part B:"
   ]
  },
  {
   "cell_type": "code",
   "execution_count": null,
   "metadata": {},
   "outputs": [],
   "source": []
  }
 ],
 "metadata": {
  "kernelspec": {
   "display_name": "venv",
   "language": "python",
   "name": "python3"
  },
  "language_info": {
   "codemirror_mode": {
    "name": "ipython",
    "version": 3
   },
   "file_extension": ".py",
   "mimetype": "text/x-python",
   "name": "python",
   "nbconvert_exporter": "python",
   "pygments_lexer": "ipython3",
   "version": "3.10.8"
  }
 },
 "nbformat": 4,
 "nbformat_minor": 2
}
