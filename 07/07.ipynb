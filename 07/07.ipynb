{
 "cells": [
  {
   "cell_type": "code",
   "execution_count": 1,
   "metadata": {},
   "outputs": [],
   "source": [
    "file = open('input/input.txt', 'r')\n",
    "lines = file.readlines()"
   ]
  },
  {
   "cell_type": "markdown",
   "metadata": {},
   "source": [
    "### Part A & B:"
   ]
  },
  {
   "cell_type": "code",
   "execution_count": 2,
   "metadata": {},
   "outputs": [],
   "source": [
    "def check_possible_operations(result, operands, with_conc=False):\n",
    "    if result < 0:\n",
    "        return False\n",
    "    elif len(operands) == 1 and result == int(operands[0]):\n",
    "        return True\n",
    "    elif len(str(result)) > sum(len(s) for s in operands):\n",
    "        # result is bigger than multiplication of all operands\n",
    "        return False\n",
    "    else:\n",
    "        # remove last operand\n",
    "        remaining_operands = operands.copy()\n",
    "        last_operand = int(remaining_operands.pop())\n",
    "\n",
    "        if with_conc:\n",
    "            # check concatenation\n",
    "            conc = False\n",
    "            if str(result).endswith(str(last_operand)):\n",
    "                rest_result = str(result)[: -len(str(last_operand))]\n",
    "                if rest_result != \"\":\n",
    "                    conc = check_possible_operations(int(rest_result), remaining_operands, with_conc)\n",
    "                    \n",
    "        # check mult\n",
    "        mult = False\n",
    "        if result % last_operand == 0:\n",
    "            mult = check_possible_operations(result // last_operand, remaining_operands, with_conc)\n",
    "\n",
    "        # check add\n",
    "        add = check_possible_operations(result - last_operand, remaining_operands, with_conc)\n",
    "\n",
    "        if with_conc:\n",
    "            return (conc or mult or add)\n",
    "        else:\n",
    "            return (mult or add)"
   ]
  },
  {
   "cell_type": "code",
   "execution_count": 3,
   "metadata": {},
   "outputs": [
    {
     "name": "stdout",
     "output_type": "stream",
     "text": [
      "Part A: 465126289353\n",
      "Part B: 70597497486371\n"
     ]
    }
   ],
   "source": [
    "calibration_result_a = 0\n",
    "calibration_result_b = 0\n",
    "\n",
    "for line in lines:\n",
    "    result, operands = line.strip().split(': ')\n",
    "    result = int(result)\n",
    "    operands = operands.split()\n",
    "\n",
    "    if check_possible_operations(result, operands):\n",
    "        calibration_result_a += result\n",
    "    if check_possible_operations(result, operands, True):\n",
    "        calibration_result_b += result\n",
    "\n",
    "print(\"Part A: \"+str(calibration_result_a))\n",
    "print(\"Part B: \"+str(calibration_result_b))"
   ]
  }
 ],
 "metadata": {
  "kernelspec": {
   "display_name": "venv",
   "language": "python",
   "name": "python3"
  },
  "language_info": {
   "codemirror_mode": {
    "name": "ipython",
    "version": 3
   },
   "file_extension": ".py",
   "mimetype": "text/x-python",
   "name": "python",
   "nbconvert_exporter": "python",
   "pygments_lexer": "ipython3",
   "version": "3.10.8"
  }
 },
 "nbformat": 4,
 "nbformat_minor": 2
}
