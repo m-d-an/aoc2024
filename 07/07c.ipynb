{
 "cells": [
  {
   "cell_type": "code",
   "execution_count": 37,
   "metadata": {},
   "outputs": [],
   "source": [
    "file = open('input/input.txt', 'r')\n",
    "lines = file.readlines()"
   ]
  },
  {
   "cell_type": "markdown",
   "metadata": {},
   "source": [
    "### Part A:"
   ]
  },
  {
   "cell_type": "code",
   "execution_count": 38,
   "metadata": {},
   "outputs": [],
   "source": [
    "def check_possible_operations(result, operands):\n",
    "    if len(operands) == 1 and result == int(operands[0]):\n",
    "        return True\n",
    "    elif len(str(result)) > sum(len(s) for s in operands):\n",
    "        # result is bigger than multiplication of all operands\n",
    "        return False\n",
    "    else:\n",
    "        # remove last operand\n",
    "        remaining_operands = operands.copy()\n",
    "        last_operand = int(remaining_operands.pop())\n",
    "        # check mult\n",
    "        mult = False\n",
    "        if result % last_operand == 0:\n",
    "            mult = check_possible_operations(result // last_operand, remaining_operands)\n",
    "        # check add\n",
    "        add = check_possible_operations(result - last_operand, remaining_operands)\n",
    "        return (mult or add)"
   ]
  },
  {
   "cell_type": "code",
   "execution_count": 39,
   "metadata": {},
   "outputs": [
    {
     "name": "stdout",
     "output_type": "stream",
     "text": [
      "465126289353\n"
     ]
    }
   ],
   "source": [
    "#read input:\n",
    "calibration_result = 0\n",
    "for line in lines:\n",
    "    result, operands = line.strip().split(': ')\n",
    "    result = int(result)\n",
    "    operands = operands.split()\n",
    "\n",
    "    if check_possible_operations(result, operands):\n",
    "        calibration_result += result\n",
    "\n",
    "print(calibration_result)\n",
    "\n"
   ]
  }
 ],
 "metadata": {
  "kernelspec": {
   "display_name": "venv",
   "language": "python",
   "name": "python3"
  },
  "language_info": {
   "codemirror_mode": {
    "name": "ipython",
    "version": 3
   },
   "file_extension": ".py",
   "mimetype": "text/x-python",
   "name": "python",
   "nbconvert_exporter": "python",
   "pygments_lexer": "ipython3",
   "version": "3.10.8"
  }
 },
 "nbformat": 4,
 "nbformat_minor": 2
}
