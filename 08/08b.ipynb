{
 "cells": [
  {
   "cell_type": "code",
   "execution_count": 17,
   "metadata": {},
   "outputs": [],
   "source": [
    "file = open('input/input.txt', 'r')\n",
    "lines = file.readlines()"
   ]
  },
  {
   "cell_type": "code",
   "execution_count": 18,
   "metadata": {},
   "outputs": [
    {
     "name": "stdout",
     "output_type": "stream",
     "text": [
      "50 50\n"
     ]
    }
   ],
   "source": [
    "max_r = len(lines)\n",
    "max_c = len(lines[0].strip())\n",
    "print(max_r,max_c)"
   ]
  },
  {
   "cell_type": "code",
   "execution_count": 19,
   "metadata": {},
   "outputs": [],
   "source": [
    "antennas = {}"
   ]
  },
  {
   "cell_type": "code",
   "execution_count": 20,
   "metadata": {},
   "outputs": [],
   "source": [
    "def print_grid():\n",
    "    for y in range(max_r):\n",
    "        row = \"\"\n",
    "        for x in range(max_c):\n",
    "            if (x,y) in antennas.keys():\n",
    "                row += antennas[(x,y)]\n",
    "            elif (x,y) in antinodes.keys():\n",
    "                row += '#'\n",
    "            else:\n",
    "                row += \".\"\n",
    "        print(row)"
   ]
  },
  {
   "cell_type": "markdown",
   "metadata": {},
   "source": [
    "### Part B:"
   ]
  },
  {
   "cell_type": "code",
   "execution_count": 21,
   "metadata": {},
   "outputs": [],
   "source": [
    "\n",
    "for y, line in enumerate(lines):\n",
    "    for x, c in enumerate(line.strip()):\n",
    "        if c != '.':\n",
    "            antennas[(x,y)] = c"
   ]
  },
  {
   "cell_type": "code",
   "execution_count": 22,
   "metadata": {},
   "outputs": [],
   "source": [
    "from collections import defaultdict\n",
    "\n",
    "# group by antenna type\n",
    "groups = defaultdict(list)\n",
    "for key, value in antennas.items():\n",
    "    groups[value].append(key)\n",
    "\n",
    "# calculate antinode positions\n",
    "antinodes = defaultdict(list)\n",
    "for value, keys in groups.items():\n",
    "    pos_to_check = keys.copy()\n",
    "    for pos in keys:\n",
    "        pos_to_check.remove(pos)\n",
    "        antinodes[pos].append(value)\n",
    "        for pos_2 in pos_to_check:\n",
    "            antinodes[pos_2].append(value)\n",
    "            x_diff = pos[0] - pos_2[0]\n",
    "            y_diff = pos[1] - pos_2[1]\n",
    "            # positions for both antinodes\n",
    "            # 1. add\n",
    "            node = (pos[0]+x_diff, pos[1]+y_diff)\n",
    "            while not (node[0] < 0 or node[0] >= max_c or node[1] < 0 or node[1] >= max_r):\n",
    "                antinodes[node].append(value)\n",
    "                node = (node[0]+x_diff, node[1]+y_diff)\n",
    "\n",
    "            # 2. subtract\n",
    "            node = (pos_2[0]-x_diff, pos_2[1]-y_diff)\n",
    "            while not (node[0] < 0 or node[0] >= max_c or node[1] < 0 or node[1] >= max_r):\n",
    "                antinodes[node].append(value)\n",
    "                node = (node[0]-x_diff, node[1]-y_diff)\n"
   ]
  },
  {
   "cell_type": "code",
   "execution_count": 23,
   "metadata": {},
   "outputs": [
    {
     "name": "stdout",
     "output_type": "stream",
     "text": [
      "...##.....#...#..###.....#4#......#..#..#7.#q.#.#.\n",
      "......##..G#.42.f.#..#.K.##..###.7#.....######.#..\n",
      "D#t..#S...#..A#.#####..#.###...#.#.#.#....#..###.#\n",
      ".#K##..##...##..##..####.........#.#I#...#..##.##.\n",
      "G....D##.f.tA.#H#S...#...###o..#.#.#...##..##N.#..\n",
      "t#..#f...##..#....##4##A##.#.#.#B..##..##.N#..#.q.\n",
      "###b...k#.##f#.h#...#.###.6.###...#...##..#.##.##.\n",
      ".###.#....b#.##m.#.#.#..##.#..##7...##...#..###.Q.\n",
      "....h##.#G#2...#.#.#K.i.###.###.##..#..#####...##.\n",
      "#F...2.#.#.D##.#H..6..o.#.##.##I.#.######.#.#..###\n",
      "k##.#...b#.##.#..##.#..#..#K...#..I##.#.e##...B#..\n",
      "####..#.#...#Sp##o....n.#.#R#...###.###.#N.###.#..\n",
      "F.##...###..#d#...#..#.#.#...#2.#.#.#####.#..#.##.\n",
      "...##.##.i..#....##.###..##.#.##..##.##...##...#.#\n",
      ".#..#ma#....d#.###.p.Q.#n..##.7#.##9###..#..##N...\n",
      ".#...#m##H..#...S##.8.#...#n.#..#Q..#e##...#.....#\n",
      ".i..#.##.#.#....8#...##O#..##I#.####.#..###..#c.##\n",
      "#.d...#.#k.###R....#....#.##..#####.9#..#z.#..#..#\n",
      "#.p#.##.##m#....#n##......##..#..P#######......##.\n",
      "###.##.pLb##..#...###..#.###.W##j#..#..#..#..##..q\n",
      "#####C..1#.###..#..u#.#.#c..##.jO###Z##o..##.#..#V\n",
      "##C#...#i...#.##.X1..#.#.9.##.#.e..#.j#..#.B.#..c.\n",
      "##.######.#.####.#.#..9##.#.##..##Q.#Z##.#.##...#.\n",
      "#d####h..L.#..#..###.##..8.##.#..#O..####.#...#..#\n",
      "..##C###.r#.L..##R###...#.#######6.#..##.#...#.##.\n",
      "....#####.#h#####.##.####1#t##.#.#P..##...V....#.#\n",
      ".#.####L#1##..##.##.###..####..##...#..#..##......\n",
      "#....######...#.###.###.##.###............#.#..##.\n",
      "X.####..####...######..##.##.##..#.#....V..#.#W...\n",
      "rx##.###.#a#X..#####0##..l.#....#.##6.#.##..##z#..\n",
      "..r.#..###.a#8#...#.##.####.#.#..####....##.##.z#.\n",
      "#..###.#########w#.####..#l#####.#..#.#..P....A##.\n",
      "####.###..E####s##w#j..##.#..l.....##...###..W..##\n",
      "#..v..#.#.###.##.##c###.#..#..###.W..y.#.V.O.#..#.\n",
      ".##.#X..g.Y...0w###.##l#.#....#....##.##.#u#...##.\n",
      ".C.#.#.##Y###0..##......###.#..###..###...#.##....\n",
      ".#.g.#UJ#..0#.##.##.v.#...##.###..#.##...#..#...#.\n",
      ".U...aY#.####.#.######.##..###..#.#....#.#.##.#.#.\n",
      "#...5#######.Y....MUJ.##..##.##B..####..#.####.#..\n",
      "..##.##g###5M##..#.##J#.##...w#.#.#####u..Z...##..\n",
      "#######.#######.TE#..##.#..#...####........#..#...\n",
      "##U#..#r..#.5....#....####....J##.#.#..##Z#.#.#...\n",
      "..##..#5##.3...##.s...###.#T....##.#..#.###..####.\n",
      ".#####.##.#.#E#T#.......###.#.#.#.#..#.##..#..u.#.\n",
      "#####.##.##v#.#.#...y###.##.#.#....##.#.#.##P##.##\n",
      "####.####...#.##s.####..#.##....##..#..##...###.##\n",
      "x.#.###..####M3##..#.#.e...##..#.##..#..#..#.##..#\n",
      ".#..#...3...v..#...MT.#..#..##....###.#####...#.##\n",
      "#.##.........x#....##...##...##.......##.#..#.....\n",
      "#.#.x#....#..#.3#...#...###.y.####.#.#.##.......#.\n"
     ]
    }
   ],
   "source": [
    "print_grid()"
   ]
  },
  {
   "cell_type": "code",
   "execution_count": 24,
   "metadata": {},
   "outputs": [
    {
     "name": "stdout",
     "output_type": "stream",
     "text": [
      "1339\n"
     ]
    }
   ],
   "source": [
    "unique_antinodes = 0\n",
    "for node in antinodes.keys():\n",
    "    if node[0] < 0 or node[0] >= max_c or node[1] < 0 or node[1] >= max_r:\n",
    "        continue\n",
    "    else:\n",
    "        unique_antinodes += 1\n",
    "print(unique_antinodes)"
   ]
  }
 ],
 "metadata": {
  "kernelspec": {
   "display_name": "venv",
   "language": "python",
   "name": "python3"
  },
  "language_info": {
   "codemirror_mode": {
    "name": "ipython",
    "version": 3
   },
   "file_extension": ".py",
   "mimetype": "text/x-python",
   "name": "python",
   "nbconvert_exporter": "python",
   "pygments_lexer": "ipython3",
   "version": "3.10.8"
  }
 },
 "nbformat": 4,
 "nbformat_minor": 2
}
