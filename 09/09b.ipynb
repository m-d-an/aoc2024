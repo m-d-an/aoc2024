{
 "cells": [
  {
   "cell_type": "code",
   "execution_count": 1,
   "metadata": {},
   "outputs": [],
   "source": [
    "file = open('input/input.txt', 'r')\n",
    "lines = file.readlines()"
   ]
  },
  {
   "cell_type": "code",
   "execution_count": 2,
   "metadata": {},
   "outputs": [],
   "source": [
    "# list with tuples\n",
    "disk_storage = []"
   ]
  },
  {
   "cell_type": "code",
   "execution_count": 3,
   "metadata": {},
   "outputs": [],
   "source": [
    "def print_disk():\n",
    "    line = \"\"\n",
    "    for t in disk_storage:\n",
    "        for i in range(t[1]):\n",
    "            if t[0] == -1:\n",
    "                line += '.'\n",
    "            else:\n",
    "                line += str(t[0])\n",
    "    print(line)"
   ]
  },
  {
   "cell_type": "code",
   "execution_count": 4,
   "metadata": {},
   "outputs": [],
   "source": [
    "\n",
    "for line in lines:\n",
    "    for i, c in enumerate(line.strip()):\n",
    "        if i % 2 == 0:\n",
    "            disk_storage.append((i//2,int(c)))\n",
    "        else:\n",
    "            disk_storage.append((-1,int(c)))\n",
    "#print_disk()"
   ]
  },
  {
   "cell_type": "markdown",
   "metadata": {},
   "source": [
    "### Part B:"
   ]
  },
  {
   "cell_type": "code",
   "execution_count": 5,
   "metadata": {},
   "outputs": [],
   "source": [
    "def get_index_of_next_free_space(count, file_idx):\n",
    "    idx_list = []\n",
    "    for i,t in enumerate(disk_storage):\n",
    "        if i >= file_idx:\n",
    "            return idx_list\n",
    "        elif t[0] == -1 and t[1] >= count:\n",
    "            idx_list.append(i)\n",
    "    return idx_list"
   ]
  },
  {
   "cell_type": "code",
   "execution_count": 6,
   "metadata": {},
   "outputs": [],
   "source": [
    "# compact the files\n",
    "entries = reversed(disk_storage.copy())\n",
    "for last_entry in entries:\n",
    "    if last_entry[0] == -1:\n",
    "        continue\n",
    "    else:\n",
    "        file_idx = disk_storage.index(last_entry)\n",
    "        idx_list = get_index_of_next_free_space(last_entry[1], file_idx)\n",
    "        for idx_of_next_free_space in idx_list:\n",
    "            next_free_space = disk_storage[idx_of_next_free_space]\n",
    "            if last_entry[1] < next_free_space[1]: \n",
    "                disk_storage[idx_of_next_free_space] = (-1,next_free_space[1]-last_entry[1])\n",
    "                disk_storage.insert(idx_of_next_free_space, last_entry)\n",
    "                disk_storage[file_idx+1] = (-1, last_entry[1])\n",
    "                break\n",
    "            elif last_entry[1] == next_free_space[1]: \n",
    "                disk_storage[idx_of_next_free_space] = last_entry\n",
    "                disk_storage[file_idx] = (-1, last_entry[1])\n",
    "                break\n",
    "            else:\n",
    "                continue\n",
    "    #print_disk()"
   ]
  },
  {
   "cell_type": "code",
   "execution_count": 7,
   "metadata": {},
   "outputs": [
    {
     "name": "stdout",
     "output_type": "stream",
     "text": [
      "6398096697992\n"
     ]
    }
   ],
   "source": [
    "# compute checksum\n",
    "check_sum = 0\n",
    "idx = 0\n",
    "for entry in disk_storage:\n",
    "    if entry[0] > -1:\n",
    "        check_sum += sum(range(idx,idx+entry[1],1))*entry[0]\n",
    "        idx += entry[1]\n",
    "    else:\n",
    "        idx += entry[1]\n",
    "print(check_sum)"
   ]
  }
 ],
 "metadata": {
  "kernelspec": {
   "display_name": "venv",
   "language": "python",
   "name": "python3"
  },
  "language_info": {
   "codemirror_mode": {
    "name": "ipython",
    "version": 3
   },
   "file_extension": ".py",
   "mimetype": "text/x-python",
   "name": "python",
   "nbconvert_exporter": "python",
   "pygments_lexer": "ipython3",
   "version": "3.10.8"
  }
 },
 "nbformat": 4,
 "nbformat_minor": 2
}
