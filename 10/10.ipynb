{
 "cells": [
  {
   "cell_type": "code",
   "execution_count": 1,
   "metadata": {},
   "outputs": [],
   "source": [
    "file = open('input/input.txt', 'r')\n",
    "lines = file.readlines()"
   ]
  },
  {
   "cell_type": "code",
   "execution_count": 2,
   "metadata": {},
   "outputs": [],
   "source": [
    "import numpy as np\n",
    "\n",
    "rows, cols = len(lines), len(lines[0].strip())\n",
    "map = np.zeros((rows, cols))\n",
    "trailheads = []"
   ]
  },
  {
   "cell_type": "code",
   "execution_count": 3,
   "metadata": {},
   "outputs": [],
   "source": [
    "\n",
    "for row, line in enumerate(lines):\n",
    "    for col, c in enumerate(line.strip()):\n",
    "        map[row,col] = int(c)\n",
    "        if int(c) == 0:\n",
    "            trailheads.append((row,col))\n"
   ]
  },
  {
   "cell_type": "markdown",
   "metadata": {},
   "source": [
    "### Part A & B:"
   ]
  },
  {
   "cell_type": "code",
   "execution_count": 4,
   "metadata": {},
   "outputs": [],
   "source": [
    "def compute_trailhead_score(height, pos, checked, with_check = True):\n",
    "    if with_check and pos in checked:\n",
    "        return 0\n",
    "    elif pos[0] < 0 or pos[0] > rows - 1 or pos[1] < 0 or pos[1] > cols - 1:\n",
    "        return 0\n",
    "    elif map[pos[0],pos[1]] == height:\n",
    "        checked.append(pos)\n",
    "        if map[pos[0],pos[1]] == 9:\n",
    "            return 1\n",
    "        else:\n",
    "            return (compute_trailhead_score(height+1, (pos[0]+1,pos[1]), checked, with_check) + \n",
    "                    compute_trailhead_score(height+1, (pos[0],pos[1]+1), checked, with_check) + \n",
    "                    compute_trailhead_score(height+1, (pos[0]-1,pos[1]), checked, with_check) +\n",
    "                    compute_trailhead_score(height+1, (pos[0],pos[1]-1), checked, with_check))\n",
    "    return 0\n"
   ]
  },
  {
   "cell_type": "code",
   "execution_count": 5,
   "metadata": {},
   "outputs": [
    {
     "name": "stdout",
     "output_type": "stream",
     "text": [
      "Part A: 667\n",
      "Part B: 1344\n"
     ]
    }
   ],
   "source": [
    "sum_hike_score = 0\n",
    "sum_hike_rating = 0\n",
    "for trailhead_pos in trailheads:\n",
    "    sum_hike_score += compute_trailhead_score(0, trailhead_pos, [])\n",
    "    sum_hike_rating += compute_trailhead_score(0, trailhead_pos, [], False)\n",
    "print(\"Part A: \"+str(sum_hike_score))\n",
    "print(\"Part B: \"+str(sum_hike_rating))"
   ]
  }
 ],
 "metadata": {
  "kernelspec": {
   "display_name": "venv",
   "language": "python",
   "name": "python3"
  },
  "language_info": {
   "codemirror_mode": {
    "name": "ipython",
    "version": 3
   },
   "file_extension": ".py",
   "mimetype": "text/x-python",
   "name": "python",
   "nbconvert_exporter": "python",
   "pygments_lexer": "ipython3",
   "version": "3.10.8"
  }
 },
 "nbformat": 4,
 "nbformat_minor": 2
}
