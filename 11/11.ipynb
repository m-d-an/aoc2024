{
 "cells": [
  {
   "cell_type": "code",
   "execution_count": 1,
   "metadata": {},
   "outputs": [],
   "source": [
    "from functools import cache"
   ]
  },
  {
   "cell_type": "code",
   "execution_count": 2,
   "metadata": {},
   "outputs": [],
   "source": [
    "file = open('input/input.txt', 'r')\n",
    "lines = file.readlines()"
   ]
  },
  {
   "cell_type": "code",
   "execution_count": 3,
   "metadata": {},
   "outputs": [],
   "source": [
    "stones = lines[0].split()"
   ]
  },
  {
   "cell_type": "code",
   "execution_count": 4,
   "metadata": {},
   "outputs": [],
   "source": [
    "@cache\n",
    "def stones_after_x_iterations(stone, x):\n",
    "    if x == 0:\n",
    "        return 1\n",
    "    if stone == 0:\n",
    "        return stones_after_x_iterations(1, x-1)\n",
    "    elif len(str(stone))%2==0:\n",
    "        half = len(str(stone)) // 2\n",
    "        left = int(str(stone)[:half])\n",
    "        right = int(str(stone)[half:])\n",
    "        return stones_after_x_iterations(left, x-1) + stones_after_x_iterations(right, x-1)\n",
    "    else:\n",
    "        return stones_after_x_iterations(stone*2024, x-1)"
   ]
  },
  {
   "cell_type": "markdown",
   "metadata": {},
   "source": [
    "### Part A:"
   ]
  },
  {
   "cell_type": "code",
   "execution_count": 5,
   "metadata": {},
   "outputs": [
    {
     "name": "stdout",
     "output_type": "stream",
     "text": [
      "204022\n"
     ]
    }
   ],
   "source": [
    "sum = 0\n",
    "for stone in stones:\n",
    "    sum += stones_after_x_iterations(int(stone), 25)\n",
    "print(sum)"
   ]
  },
  {
   "cell_type": "markdown",
   "metadata": {},
   "source": [
    "### Part B:"
   ]
  },
  {
   "cell_type": "code",
   "execution_count": 6,
   "metadata": {},
   "outputs": [
    {
     "name": "stdout",
     "output_type": "stream",
     "text": [
      "241651071960597\n"
     ]
    }
   ],
   "source": [
    "sum = 0\n",
    "for stone in stones:\n",
    "    sum += stones_after_x_iterations(int(stone), 75)\n",
    "print(sum)"
   ]
  }
 ],
 "metadata": {
  "kernelspec": {
   "display_name": "venv",
   "language": "python",
   "name": "python3"
  },
  "language_info": {
   "codemirror_mode": {
    "name": "ipython",
    "version": 3
   },
   "file_extension": ".py",
   "mimetype": "text/x-python",
   "name": "python",
   "nbconvert_exporter": "python",
   "pygments_lexer": "ipython3",
   "version": "3.10.8"
  }
 },
 "nbformat": 4,
 "nbformat_minor": 2
}
