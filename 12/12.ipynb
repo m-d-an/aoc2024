{
 "cells": [
  {
   "cell_type": "code",
   "execution_count": 1,
   "metadata": {},
   "outputs": [],
   "source": [
    "file = open('input/input.txt', 'r')\n",
    "lines = file.readlines()"
   ]
  },
  {
   "cell_type": "code",
   "execution_count": 2,
   "metadata": {},
   "outputs": [],
   "source": [
    "map = {}\n",
    "max_rows = len(lines)\n",
    "max_cols = len(lines[0].strip())"
   ]
  },
  {
   "cell_type": "code",
   "execution_count": 3,
   "metadata": {},
   "outputs": [],
   "source": [
    "for row,line in enumerate(lines):\n",
    "    for col, c in enumerate(line.strip()):\n",
    "        map[(row,col)] = c"
   ]
  },
  {
   "cell_type": "markdown",
   "metadata": {},
   "source": [
    "### Part A:"
   ]
  },
  {
   "cell_type": "code",
   "execution_count": 4,
   "metadata": {},
   "outputs": [],
   "source": [
    "visited_map = []\n",
    "dirs = [(-1,0),(1,0),(0,-1),(0,1)]"
   ]
  },
  {
   "cell_type": "code",
   "execution_count": 5,
   "metadata": {},
   "outputs": [],
   "source": [
    "def garden_plot_neighbours(pos, plant, visited):\n",
    "    if pos in visited:\n",
    "        return (0,0)\n",
    "    elif pos[0] < 0 or pos[0] >= max_rows or pos[1] < 0 or pos[1] >= max_cols:\n",
    "        return (0,1)\n",
    "    elif map[pos] == plant:\n",
    "        visited_map.append(pos)\n",
    "        visited.append(pos)\n",
    "        ap = (1,0)\n",
    "        # check additional neighbors\n",
    "        for dir in dirs:\n",
    "            new_ap = garden_plot_neighbours((pos[0]+dir[0],pos[1]+dir[1]),plant, visited)\n",
    "            ap = (ap[0]+new_ap[0],ap[1]+new_ap[1])\n",
    "        return ap\n",
    "    else:\n",
    "        return (0,1)"
   ]
  },
  {
   "cell_type": "code",
   "execution_count": 6,
   "metadata": {},
   "outputs": [
    {
     "name": "stdout",
     "output_type": "stream",
     "text": [
      "1396298\n"
     ]
    }
   ],
   "source": [
    "fence_cost = 0\n",
    "for row in range(max_rows):\n",
    "    for col in range(max_cols):\n",
    "        if (row,col) in visited_map:\n",
    "            continue\n",
    "        else:\n",
    "            ap = garden_plot_neighbours((row,col), map[(row,col)], [])\n",
    "            fence_cost += ap[0] * ap[1]\n",
    "print(fence_cost)\n"
   ]
  }
 ],
 "metadata": {
  "kernelspec": {
   "display_name": "venv",
   "language": "python",
   "name": "python3"
  },
  "language_info": {
   "codemirror_mode": {
    "name": "ipython",
    "version": 3
   },
   "file_extension": ".py",
   "mimetype": "text/x-python",
   "name": "python",
   "nbconvert_exporter": "python",
   "pygments_lexer": "ipython3",
   "version": "3.10.8"
  }
 },
 "nbformat": 4,
 "nbformat_minor": 2
}
