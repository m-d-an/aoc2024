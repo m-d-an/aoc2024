{
 "cells": [
  {
   "cell_type": "code",
   "execution_count": 1,
   "metadata": {},
   "outputs": [],
   "source": [
    "file = open('input/input.txt', 'r')\n",
    "lines = file.readlines()"
   ]
  },
  {
   "cell_type": "code",
   "execution_count": 2,
   "metadata": {},
   "outputs": [],
   "source": [
    "map = {}\n",
    "max_rows = len(lines)\n",
    "max_cols = len(lines[0].strip())"
   ]
  },
  {
   "cell_type": "code",
   "execution_count": 3,
   "metadata": {},
   "outputs": [],
   "source": [
    "for row,line in enumerate(lines):\n",
    "    #print(line.strip())\n",
    "    for col, c in enumerate(line.strip()):\n",
    "        map[(row,col)] = c"
   ]
  },
  {
   "cell_type": "markdown",
   "metadata": {},
   "source": [
    "### Part B:"
   ]
  },
  {
   "cell_type": "code",
   "execution_count": 4,
   "metadata": {},
   "outputs": [],
   "source": [
    "visited_map = []\n",
    "dirs = [(-1,0),(1,0),(0,-1),(0,1)]"
   ]
  },
  {
   "cell_type": "code",
   "execution_count": 5,
   "metadata": {},
   "outputs": [],
   "source": [
    "def get_area(pos, plant, visited):\n",
    "    if pos in visited:\n",
    "        return 0\n",
    "    elif not (pos[0] < 0 or pos[0] >= max_rows or pos[1] < 0 or pos[1] >= max_cols) and map[pos] == plant:\n",
    "        visited_map.append(pos)\n",
    "        visited.append(pos)\n",
    "        area = 1\n",
    "        # check additional neighbors\n",
    "        for dir in dirs:\n",
    "            area += get_area((pos[0]+dir[0],pos[1]+dir[1]), plant, visited)\n",
    "        return area\n",
    "    else:\n",
    "        return 0     "
   ]
  },
  {
   "cell_type": "code",
   "execution_count": 6,
   "metadata": {},
   "outputs": [],
   "source": [
    "def check_sides(plant, positions):\n",
    "    perimeter_map = []\n",
    "    sides = 0\n",
    "    for check_pos in positions:\n",
    "        for dir in dirs:\n",
    "            pos = (check_pos[0]+dir[0],check_pos[1]+dir[1])\n",
    "            if (pos[0] < 0 or pos[0] >= max_rows or pos[1] < 0 or pos[1] >= max_cols) or (map[pos] != plant):\n",
    "                perimeter_map.append((dir,pos))\n",
    "                if dir[1] != 0:\n",
    "                    # check perimeter up and down\n",
    "                    if not ((dir, (pos[0]-1, pos[1])) in perimeter_map or (dir, (pos[0]+1, pos[1])) in perimeter_map):\n",
    "                        sides += 1\n",
    "                if dir[0] != 0:\n",
    "                    # check perimeter left and right\n",
    "                    if not ((dir, (pos[0], pos[1]-1)) in perimeter_map or (dir, (pos[0], pos[1]+1)) in perimeter_map):\n",
    "                        sides += 1\n",
    "    return sides"
   ]
  },
  {
   "cell_type": "code",
   "execution_count": 7,
   "metadata": {},
   "outputs": [
    {
     "name": "stdout",
     "output_type": "stream",
     "text": [
      "853588\n"
     ]
    }
   ],
   "source": [
    "fence_cost = 0\n",
    "for row in range(max_rows):\n",
    "    for col in range(max_cols):\n",
    "        if (row,col) in visited_map:\n",
    "            continue\n",
    "        else:\n",
    "            positions = []\n",
    "            area = get_area((row,col), map[(row,col)], positions)\n",
    "            positions.sort(key=lambda x: (x[0], x[1]))\n",
    "            sides = check_sides(map[(row,col)], positions)\n",
    "            fence_cost += area * sides\n",
    "print(fence_cost)\n"
   ]
  }
 ],
 "metadata": {
  "kernelspec": {
   "display_name": "venv",
   "language": "python",
   "name": "python3"
  },
  "language_info": {
   "codemirror_mode": {
    "name": "ipython",
    "version": 3
   },
   "file_extension": ".py",
   "mimetype": "text/x-python",
   "name": "python",
   "nbconvert_exporter": "python",
   "pygments_lexer": "ipython3",
   "version": "3.10.8"
  }
 },
 "nbformat": 4,
 "nbformat_minor": 2
}
