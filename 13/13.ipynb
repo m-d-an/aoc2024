{
 "cells": [
  {
   "cell_type": "code",
   "execution_count": 1,
   "metadata": {},
   "outputs": [],
   "source": [
    "file = open('input/input.txt', 'r')\n",
    "lines = file.readlines()"
   ]
  },
  {
   "cell_type": "markdown",
   "metadata": {},
   "source": [
    "### Part A:"
   ]
  },
  {
   "cell_type": "code",
   "execution_count": 2,
   "metadata": {},
   "outputs": [],
   "source": [
    "from pulp import LpProblem, LpMinimize, LpVariable, lpSum, LpInteger, PULP_CBC_CMD"
   ]
  },
  {
   "cell_type": "code",
   "execution_count": 3,
   "metadata": {},
   "outputs": [],
   "source": [
    "\n",
    "def solve(a1, a2, b1, b2, x, y):\n",
    "    # problem definition\n",
    "    problem = LpProblem(\"minimize_costs\", LpMinimize)\n",
    "\n",
    "    # variables\n",
    "    a = LpVariable(\"a\", lowBound=0, cat=LpInteger)\n",
    "    b = LpVariable(\"b\", lowBound=0, cat=LpInteger)\n",
    "\n",
    "    # cost function (minimize)\n",
    "    problem += 3 * a + 1 * b, \"cost_function\"\n",
    "\n",
    "    # constraints\n",
    "    problem += a1 * a + b1 * b == x, \"constraint_1\"\n",
    "    problem += a2 * a + b2 * b == y, \"constraint_2\"\n",
    "\n",
    "    # solve\n",
    "    solver = PULP_CBC_CMD(msg=False)\n",
    "    status = problem.solve(solver)\n",
    "    if status == 1:\n",
    "        return problem.objective.value()\n",
    "    else:\n",
    "        return None\n"
   ]
  },
  {
   "cell_type": "code",
   "execution_count": 4,
   "metadata": {},
   "outputs": [
    {
     "name": "stdout",
     "output_type": "stream",
     "text": [
      "35082\n"
     ]
    }
   ],
   "source": [
    "a1 = a2 = b1 = b2 = x = y = 0\n",
    "costs = 0\n",
    "for i, line in enumerate(lines):\n",
    "    if i%4 == 0:\n",
    "        a1 = int(line.split()[2].split('+')[1][:-1])\n",
    "        a2 = int(line.split()[3].split('+')[1])\n",
    "    if i%4 == 1:\n",
    "        b1 = int(line.split()[2].split('+')[1][:-1])\n",
    "        b2 = int(line.split()[3].split('+')[1])\n",
    "    if i%4 == 2:\n",
    "        x = int(line.split()[1].split('=')[1][:-1])\n",
    "        y = int(line.split()[2].split('=')[1])\n",
    "    if i%4 == 3 or i == len(lines)-1:\n",
    "        solution = solve(a1, a2, b1, b2, x, y)\n",
    "        if solution is not None:\n",
    "            costs += solution\n",
    "print(int(costs))\n"
   ]
  }
 ],
 "metadata": {
  "kernelspec": {
   "display_name": "venv",
   "language": "python",
   "name": "python3"
  },
  "language_info": {
   "codemirror_mode": {
    "name": "ipython",
    "version": 3
   },
   "file_extension": ".py",
   "mimetype": "text/x-python",
   "name": "python",
   "nbconvert_exporter": "python",
   "pygments_lexer": "ipython3",
   "version": "3.10.8"
  }
 },
 "nbformat": 4,
 "nbformat_minor": 2
}
