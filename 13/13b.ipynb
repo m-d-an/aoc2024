{
 "cells": [
  {
   "cell_type": "code",
   "execution_count": 1,
   "metadata": {},
   "outputs": [],
   "source": [
    "file = open('input/input.txt', 'r')\n",
    "lines = file.readlines()"
   ]
  },
  {
   "cell_type": "markdown",
   "metadata": {},
   "source": [
    "### Part B:"
   ]
  },
  {
   "cell_type": "markdown",
   "metadata": {},
   "source": [
    "x = a * a1 + b * b1  \n",
    "\n",
    "y = a * a2 + b * b2 \n",
    "\n",
    "a = (x - b * b1) / a1  \n",
    "\n",
    "y = ((x - b * b1) / a1) * a2 + b * b2  \n",
    "y = (x / a1 - b * b1 / a1) * a2 + b * b2  \n",
    "y = x / a1 * a2 - b * b1 / a1 * a2 +  b * b2  \n",
    "y = x / a1 * a2 + b * (-1 * b1 / a1 * a2 + b2)  \n",
    "y - b * (-1 * b1 / a1 * a2 + b2) = x / a1 * a2  \n",
    "\\- b * (-1 * b1 / a1 * a2 + b2) = x / a1 * a2 - y  \n",
    "b * (-1 * b1 / a1 * a2 + b2) = y - x / a1 * a2  \n",
    "b = (y - x / a1 * a2) / (-1 * b1 / a1 * a2 + b2)  "
   ]
  },
  {
   "cell_type": "code",
   "execution_count": 2,
   "metadata": {},
   "outputs": [],
   "source": [
    "def solve(a1, a2, b1, b2, x, y):\n",
    "    b = (y - x / a1 * a2) / (-1 * b1 / a1 * a2 + b2) \n",
    "    a = (x - b * b1) / a1 \n",
    "    if min(a,b) < 0: \n",
    "        return 0, 0\n",
    "    return a, b"
   ]
  },
  {
   "cell_type": "code",
   "execution_count": 3,
   "metadata": {},
   "outputs": [
    {
     "name": "stdout",
     "output_type": "stream",
     "text": [
      "82570698600470\n"
     ]
    }
   ],
   "source": [
    "a1 = a2 = b1 = b2 = x = y = 0\n",
    "costs = 0\n",
    "for i, line in enumerate(lines):\n",
    "    \n",
    "    if i%4 == 0:\n",
    "        a1 = int(line.split()[2].split('+')[1][:-1])\n",
    "        a2 = int(line.split()[3].split('+')[1])\n",
    "    if i%4 == 1:\n",
    "        b1 = int(line.split()[2].split('+')[1][:-1])\n",
    "        b2 = int(line.split()[3].split('+')[1])\n",
    "    if i%4 == 2:\n",
    "        x = int(line.split()[1].split('=')[1][:-1]) + 10000000000000\n",
    "        y = int(line.split()[2].split('=')[1]) + 10000000000000\n",
    "    if i%4 == 3 or i == len(lines)-1:\n",
    "        a, b = map(round,solve(a1, a2, b1, b2, x, y))\n",
    "        if a*a1+b*b1 == x and a*a2+b*b2 == y:\n",
    "            costs += 3*a+b    \n",
    "print(costs)\n"
   ]
  }
 ],
 "metadata": {
  "kernelspec": {
   "display_name": "venv",
   "language": "python",
   "name": "python3"
  },
  "language_info": {
   "codemirror_mode": {
    "name": "ipython",
    "version": 3
   },
   "file_extension": ".py",
   "mimetype": "text/x-python",
   "name": "python",
   "nbconvert_exporter": "python",
   "pygments_lexer": "ipython3",
   "version": "3.10.8"
  }
 },
 "nbformat": 4,
 "nbformat_minor": 2
}
