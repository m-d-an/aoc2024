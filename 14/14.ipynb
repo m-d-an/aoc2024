{
 "cells": [
  {
   "cell_type": "code",
   "execution_count": 1,
   "metadata": {},
   "outputs": [],
   "source": [
    "example = False"
   ]
  },
  {
   "cell_type": "code",
   "execution_count": 2,
   "metadata": {},
   "outputs": [],
   "source": [
    "if example:\n",
    "    file = open('input/example.txt', 'r')\n",
    "else:\n",
    "    file = open('input/input.txt', 'r')\n",
    "lines = file.readlines()"
   ]
  },
  {
   "cell_type": "code",
   "execution_count": 3,
   "metadata": {},
   "outputs": [],
   "source": [
    "if example:\n",
    "    max_x = 11\n",
    "    max_y = 7\n",
    "else:\n",
    "    max_x = 101\n",
    "    max_y = 103"
   ]
  },
  {
   "cell_type": "code",
   "execution_count": 4,
   "metadata": {},
   "outputs": [],
   "source": [
    "def compute_position_after_i_steps(pos, vel, i):\n",
    "    new_x = (pos[0] + i * vel[0]) % max_x\n",
    "    new_y = (pos[1] + i * vel[1]) % max_y\n",
    "    return (new_x, new_y)"
   ]
  },
  {
   "cell_type": "code",
   "execution_count": 5,
   "metadata": {},
   "outputs": [],
   "source": [
    "def print_positions(positions):\n",
    "    for y in range(max_y):\n",
    "        line = \"\"\n",
    "        for x in range(max_x):\n",
    "            if (x,y) in positions:\n",
    "                line += str(positions.count((x,y)))\n",
    "            else:\n",
    "                line += '.'\n",
    "        print(line)"
   ]
  },
  {
   "cell_type": "markdown",
   "metadata": {},
   "source": [
    "### Part A:"
   ]
  },
  {
   "cell_type": "code",
   "execution_count": 6,
   "metadata": {},
   "outputs": [],
   "source": [
    "quadrants = [((0, max_x // 2),(0, max_y // 2)),\n",
    "             ((0, max_x // 2),(max_y // 2 + 1, max_y)),\n",
    "             ((max_x // 2 + 1, max_x),(0, max_y // 2)),\n",
    "             ((max_x // 2 + 1, max_x),(max_y // 2 + 1, max_y))]"
   ]
  },
  {
   "cell_type": "code",
   "execution_count": 7,
   "metadata": {},
   "outputs": [],
   "source": [
    "\n",
    "def safety_factor(positions):\n",
    "    safety_factor = 1\n",
    "    for quadrant in quadrants:\n",
    "        counts = 0\n",
    "        for x in range(quadrant[0][0], quadrant[0][1], 1):\n",
    "            for y in range(quadrant[1][0], quadrant[1][1], 1):\n",
    "                counts += positions.count((x,y))\n",
    "        safety_factor *= counts\n",
    "    return safety_factor"
   ]
  },
  {
   "cell_type": "code",
   "execution_count": 8,
   "metadata": {},
   "outputs": [],
   "source": [
    "def highest_quadrant_count(positions):\n",
    "    return 0"
   ]
  },
  {
   "cell_type": "code",
   "execution_count": 9,
   "metadata": {},
   "outputs": [
    {
     "name": "stdout",
     "output_type": "stream",
     "text": [
      "218295000\n"
     ]
    }
   ],
   "source": [
    "positions = []\n",
    "for line in lines[:]:\n",
    "    pos = (int(line.split()[0].split(',')[0].split('=')[1]),int(line.split()[0].split(',')[1]))\n",
    "    vel = (int(line.split()[1].split(',')[0].split('=')[1]),int(line.split()[1].split(',')[1]))\n",
    "    #print(pos, vel)\n",
    "    positions.append(compute_position_after_i_steps(pos, vel, 100))\n",
    "#print_positions(positions)\n",
    "# determine safety factor\n",
    "print(safety_factor(positions))\n",
    "    "
   ]
  }
 ],
 "metadata": {
  "kernelspec": {
   "display_name": "venv",
   "language": "python",
   "name": "python3"
  },
  "language_info": {
   "codemirror_mode": {
    "name": "ipython",
    "version": 3
   },
   "file_extension": ".py",
   "mimetype": "text/x-python",
   "name": "python",
   "nbconvert_exporter": "python",
   "pygments_lexer": "ipython3",
   "version": "3.10.8"
  }
 },
 "nbformat": 4,
 "nbformat_minor": 2
}
