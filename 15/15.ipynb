{
 "cells": [
  {
   "cell_type": "code",
   "execution_count": 1,
   "metadata": {},
   "outputs": [],
   "source": [
    "file = open('input/input.txt', 'r')\n",
    "lines = file.readlines()"
   ]
  },
  {
   "cell_type": "code",
   "execution_count": 2,
   "metadata": {},
   "outputs": [],
   "source": [
    "max_y = len(lines)\n",
    "max_x = len(lines[0].strip())"
   ]
  },
  {
   "cell_type": "code",
   "execution_count": 3,
   "metadata": {},
   "outputs": [],
   "source": [
    "walls = []\n",
    "boxes = []\n",
    "robot = None\n",
    "movements = []"
   ]
  },
  {
   "cell_type": "code",
   "execution_count": 4,
   "metadata": {},
   "outputs": [],
   "source": [
    "def print_map():\n",
    "    for y in range(max_y):\n",
    "        line = \"\"\n",
    "        for x in range(max_x):\n",
    "            if (x,y) in walls:\n",
    "                line += '#'\n",
    "            elif (x,y) in boxes:\n",
    "                line += '0'\n",
    "            elif (x,y) == robot:\n",
    "                line += '@'\n",
    "            else:\n",
    "                line += '.'\n",
    "        print(line)"
   ]
  },
  {
   "cell_type": "code",
   "execution_count": 5,
   "metadata": {},
   "outputs": [],
   "source": [
    "\n",
    "for y,line in enumerate(lines):\n",
    "    if line == \"\\n\":\n",
    "        max_y = y\n",
    "        continue\n",
    "    for x, c in enumerate(line.strip()):\n",
    "        if c == '#':\n",
    "            walls.append((x,y))\n",
    "        elif c == 'O':\n",
    "            boxes.append((x,y))\n",
    "        elif c == '@':\n",
    "            robot = (x,y)\n",
    "        elif c == '<':\n",
    "            movements.append((-1,0))\n",
    "        elif c == '^':\n",
    "            movements.append((0,-1))            \n",
    "        elif c == '>':\n",
    "            movements.append((1,0))\n",
    "        elif c == 'v':\n",
    "            movements.append((0,1))"
   ]
  },
  {
   "cell_type": "markdown",
   "metadata": {},
   "source": [
    "### Part A:"
   ]
  },
  {
   "cell_type": "code",
   "execution_count": 6,
   "metadata": {},
   "outputs": [],
   "source": [
    "def check_push(new_pos, move):\n",
    "    if new_pos in walls:\n",
    "        return False\n",
    "    else:\n",
    "        if new_pos in boxes:\n",
    "            if check_push((new_pos[0]+move[0],new_pos[1]+move[1]), move):    \n",
    "                boxes.remove((new_pos[0]-move[0],new_pos[1]-move[1]))\n",
    "                boxes.append(new_pos)\n",
    "                return True              \n",
    "            else:\n",
    "                return False\n",
    "        else:\n",
    "            boxes.remove((new_pos[0]-move[0],new_pos[1]-move[1]))\n",
    "            boxes.append(new_pos)\n",
    "            return True"
   ]
  },
  {
   "cell_type": "code",
   "execution_count": 7,
   "metadata": {},
   "outputs": [
    {
     "name": "stdout",
     "output_type": "stream",
     "text": [
      "##################################################\n",
      "#.#000......00..0...0#0.0.#0.0#.0......0000..0...#\n",
      "#.#0....0....00..#....0......#..0#.0...#...##....#\n",
      "#000.........000..0...0...#...0..0#....#.00...##.#\n",
      "#00......#...........0.#00#.00#..........00#..00##\n",
      "#0......0.............0#......##........00....0###\n",
      "##.......#00.0.....0........#00.0......0..0.0...0#\n",
      "#0.......0##...#0..#0...#............0..000.0....#\n",
      "#0000...0.#0.#0.00..0#0....0#......@..0....#..##0#\n",
      "#00##...0.0..00#0....00..#000.........000...00000#\n",
      "#0000..#......000...#.#00...#...0.....00.....0...#\n",
      "#000..........0.0#.0##..0..#00......0000....0.#.0#\n",
      "#00.0.....00#.....00000#0000..0.#.0.000#......000#\n",
      "#00..#0...0#..#...#..#.00.0#0..#0.0.0#000...##.00#\n",
      "#0...00...#0......0..0.0....00#0.....0....#.0#..0#\n",
      "#.............00...##0.....#..0...........0..000.#\n",
      "#........000000....0....0....0...............#...#\n",
      "#........00000....#.....0#..0.00.............00..#\n",
      "#.....0.0...000..........0000...00........0#0....#\n",
      "#......00....00..0.......00#0...0..0.#....0#0...0#\n",
      "#00....#0....0...........0##0..#0.00...00#0.#...0#\n",
      "#000..0#0.0..00..##....#0...00.#0.0.00.0.00....00#\n",
      "##00..0#0.#..#00000..........#..0..00...#00....00#\n",
      "##00...#........0.#...........0.00......00000.0#0#\n",
      "#0.....0....0...0..0.........#000......0#......00#\n",
      "#0.............0...0.0.........0000#...0....00000#\n",
      "#0....0...0....0.0...0#........000##........#...0#\n",
      "#0............#000...........0.#0#00...0.....00#0#\n",
      "##..........#.0..00.#.#...........000....#..#.0#.#\n",
      "#0.......0...........00.00..........0.........000#\n",
      "#00........0.........0000.....#.....0.........0.0#\n",
      "#0..##.0..0.......0##.0#0....0#....0#...0...#.000#\n",
      "#..00....00.......00#0.....00..................0.#\n",
      "#.........00......0#0.....0.......0#0............#\n",
      "#0.0......00......0#0....#00...........00.......##\n",
      "#00#....#0..0.00..#00....#0.0.....#0..#0........0#\n",
      "#000.................0.0...#..#....#0..#0...#...0#\n",
      "#..0.0...0#0000......#..0.......00000..##...#0.#0#\n",
      "#.0.0#....0...0..0.......0#....000#...0000#000.00#\n",
      "##000000....0..........00....00##000.....0.000..0#\n",
      "#.000..0.......0........00...000000#.....0.0.0#..#\n",
      "#0.#0.#00#...0.....#.....00.....#0...00..0.000...#\n",
      "#....0.......#..........#........0000#0....0#00..#\n",
      "#....0.#.#0..#.........0......0#.#...........0...#\n",
      "#.0#00...0#0.0..#........0#..#0..#.......0.......#\n",
      "#0000#...0#..............0..0.0......00##.0..#.0.#\n",
      "#...#....0#0......0....0.000#.0....0#..0....0000.#\n",
      "#......#...0..0...000#...00000#0..00#.....0#0.0#.#\n",
      "#.0........00000..00#.0#00.0.0.000.00#.000....0..#\n",
      "##################################################\n"
     ]
    }
   ],
   "source": [
    "for move in movements:\n",
    "\n",
    "    new_pos = (robot[0]+move[0], robot[1]+move[1])\n",
    "    if not (new_pos in walls):\n",
    "        if new_pos in boxes:\n",
    "            # check if box (on next tile) can be pushed\n",
    "            if check_push((new_pos[0]+move[0],new_pos[1]+move[1]), move):\n",
    "                robot = new_pos\n",
    "        else:\n",
    "            robot = new_pos\n",
    "print_map()"
   ]
  },
  {
   "cell_type": "code",
   "execution_count": 8,
   "metadata": {},
   "outputs": [
    {
     "name": "stdout",
     "output_type": "stream",
     "text": [
      "1509074\n"
     ]
    }
   ],
   "source": [
    "# compute GPS coordinates\n",
    "gps_sum = 0\n",
    "for box in boxes:\n",
    "    gps_sum += 100 * box[1] + box[0]\n",
    "print(gps_sum)"
   ]
  }
 ],
 "metadata": {
  "kernelspec": {
   "display_name": "venv",
   "language": "python",
   "name": "python3"
  },
  "language_info": {
   "codemirror_mode": {
    "name": "ipython",
    "version": 3
   },
   "file_extension": ".py",
   "mimetype": "text/x-python",
   "name": "python",
   "nbconvert_exporter": "python",
   "pygments_lexer": "ipython3",
   "version": "3.10.8"
  }
 },
 "nbformat": 4,
 "nbformat_minor": 2
}
