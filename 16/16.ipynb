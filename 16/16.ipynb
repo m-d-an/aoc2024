{
 "cells": [
  {
   "cell_type": "code",
   "execution_count": 32,
   "metadata": {},
   "outputs": [],
   "source": [
    "import heapq"
   ]
  },
  {
   "cell_type": "code",
   "execution_count": 33,
   "metadata": {},
   "outputs": [],
   "source": [
    "file = open('input/example1.txt', 'r')\n",
    "lines = file.readlines()"
   ]
  },
  {
   "cell_type": "code",
   "execution_count": 34,
   "metadata": {},
   "outputs": [],
   "source": [
    "def print_map():\n",
    "    for r in range(len(lines)):\n",
    "        line = \"\"\n",
    "        for c in range(len(lines[0].strip())):\n",
    "            if (r,c) in walls:\n",
    "                line += '#'                \n",
    "            elif (r,c) == end:\n",
    "                line += 'E'\n",
    "            elif (r,c) == start:\n",
    "                line += 'S'\n",
    "            else:\n",
    "                line += '.'\n",
    "        print(line)"
   ]
  },
  {
   "cell_type": "code",
   "execution_count": 35,
   "metadata": {},
   "outputs": [
    {
     "name": "stdout",
     "output_type": "stream",
     "text": [
      "###############\n",
      "#.......#....E#\n",
      "#.#.###.#.###.#\n",
      "#.....#.#...#.#\n",
      "#.###.#####.#.#\n",
      "#.#.#.......#.#\n",
      "#.#.#####.###.#\n",
      "#...........#.#\n",
      "###.#.#####.#.#\n",
      "#...#.....#.#.#\n",
      "#.#.#.###.#.#.#\n",
      "#.....#...#.#.#\n",
      "#.###.#.#.#.#.#\n",
      "#S..#.....#...#\n",
      "###############\n"
     ]
    }
   ],
   "source": [
    "start = None\n",
    "end = None\n",
    "walls = []\n",
    "for r, row in enumerate(lines):\n",
    "    for c, char in enumerate(row):\n",
    "        if char == '#':\n",
    "            walls.append((r,c))\n",
    "        elif char == 'S':\n",
    "            start = (r, c)\n",
    "        elif char == 'E':\n",
    "            end = (r, c)\n",
    "#print_map()"
   ]
  },
  {
   "cell_type": "markdown",
   "metadata": {},
   "source": [
    "### Part A & B:"
   ]
  },
  {
   "cell_type": "code",
   "execution_count": 37,
   "metadata": {},
   "outputs": [],
   "source": [
    "def dijkstra(walls, start, end):\n",
    "    # right, down, left, up\n",
    "    directions = [(0, 1), (1, 0), (0, -1), (-1, 0)]  \n",
    "    # (cost, row, col, direction_index, path)\n",
    "    queue = [(0, start[0], start[1], 0, [(start[0],start[1])])]\n",
    "    visited = {}\n",
    "    paths = []\n",
    "\n",
    "    while queue:\n",
    "        cost, r, c, dir_idx, path = heapq.heappop(queue)\n",
    "        if (r, c, dir_idx) in visited and visited[(r, c, dir_idx)] < cost:\n",
    "            continue\n",
    "        visited[(r, c, dir_idx)] = cost\n",
    "\n",
    "        if (r, c) == end:\n",
    "            # save path and look further\n",
    "            paths.append((cost,path))\n",
    "            continue\n",
    "\n",
    "        # move forward\n",
    "        dr, dc = directions[dir_idx]\n",
    "        nr, nc = r + dr, c + dc\n",
    "        if (nr,nc) not in walls:\n",
    "            heapq.heappush(queue, (cost + 1, nr, nc, dir_idx, path + [(nr, nc)]))\n",
    "\n",
    "        # turn right\n",
    "        new_dir_idx = (dir_idx + 1) % 4\n",
    "        heapq.heappush(queue, (cost + 1000, r, c, new_dir_idx, path))\n",
    "\n",
    "        # turn left\n",
    "        new_dir_idx = (dir_idx - 1) % 4\n",
    "        heapq.heappush(queue, (cost + 1000, r, c, new_dir_idx, path))\n",
    "\n",
    "    # get shortest paths\n",
    "    min_cost = min(x[0] for x in paths)\n",
    "    return [x for x in paths if x[0] == min_cost]"
   ]
  },
  {
   "cell_type": "code",
   "execution_count": 38,
   "metadata": {},
   "outputs": [
    {
     "name": "stdout",
     "output_type": "stream",
     "text": [
      "Part A: 7036\n",
      "Part B: 45\n"
     ]
    }
   ],
   "source": [
    "shortest_paths = dijkstra(walls, start, end)\n",
    "min_cost = shortest_paths[0][0]\n",
    "print(\"Part A: \"+str(min_cost))\n",
    "all_tiles = set()\n",
    "for _, path in shortest_paths:\n",
    "    all_tiles.update(path)\n",
    "print(\"Part B: \"+str(len(all_tiles)))"
   ]
  }
 ],
 "metadata": {
  "kernelspec": {
   "display_name": "venv",
   "language": "python",
   "name": "python3"
  },
  "language_info": {
   "codemirror_mode": {
    "name": "ipython",
    "version": 3
   },
   "file_extension": ".py",
   "mimetype": "text/x-python",
   "name": "python",
   "nbconvert_exporter": "python",
   "pygments_lexer": "ipython3",
   "version": "3.10.8"
  }
 },
 "nbformat": 4,
 "nbformat_minor": 2
}
