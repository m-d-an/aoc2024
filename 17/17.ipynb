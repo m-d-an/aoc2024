{
 "cells": [
  {
   "cell_type": "code",
   "execution_count": 1,
   "metadata": {},
   "outputs": [],
   "source": [
    "file = open('input/input.txt', 'r')\n",
    "lines = file.readlines()"
   ]
  },
  {
   "cell_type": "code",
   "execution_count": 2,
   "metadata": {},
   "outputs": [],
   "source": [
    "A = B = C = 0\n",
    "program = \"\""
   ]
  },
  {
   "cell_type": "code",
   "execution_count": 3,
   "metadata": {},
   "outputs": [],
   "source": [
    "\n",
    "for line in lines:\n",
    "    if line == \"\\n\":\n",
    "        continue\n",
    "    elif line.startswith(\"Register A\"):\n",
    "        A = int(line.split()[2])\n",
    "    elif line.startswith(\"Register B\"):\n",
    "        B = int(line.split()[2])\n",
    "    elif line.startswith(\"Register C\"):\n",
    "        C = int(line.split()[2])\n",
    "    elif line.startswith(\"Program\"):\n",
    "        program = line.split()[1]\n"
   ]
  },
  {
   "cell_type": "markdown",
   "metadata": {},
   "source": [
    "### Part A:"
   ]
  },
  {
   "cell_type": "code",
   "execution_count": 4,
   "metadata": {},
   "outputs": [],
   "source": [
    "def combo_operand(cop):\n",
    "    if cop >= 0 and cop <= 3:\n",
    "        return cop\n",
    "    elif cop == 4:\n",
    "        return A\n",
    "    elif cop == 5:\n",
    "        return B\n",
    "    elif cop == 6:\n",
    "        return C\n",
    "    else:\n",
    "        return None"
   ]
  },
  {
   "cell_type": "code",
   "execution_count": 5,
   "metadata": {},
   "outputs": [],
   "source": [
    "ipointer = 0\n",
    "output = \"\"\n",
    "while True:\n",
    "    opcode = program[ipointer]\n",
    "    operand = int(program[ipointer+2])\n",
    "    if opcode == '0':\n",
    "        # adv instruction\n",
    "        A = A // pow(2,combo_operand(operand))\n",
    "    elif opcode == '1':\n",
    "        # bxl\n",
    "        B = B ^ operand\n",
    "    elif opcode == '2':\n",
    "        # bst\n",
    "        B = combo_operand(operand) % 8\n",
    "    elif opcode == '3':\n",
    "        # jnz\n",
    "        if A != 0:\n",
    "            # times 2 due to commas in string\n",
    "            # -4 due to increase at end of loop\n",
    "            ipointer = operand * 2 - 4\n",
    "    elif opcode == '4':\n",
    "        # bxc\n",
    "        B = B ^ C\n",
    "    elif opcode == '5':\n",
    "        # out\n",
    "        if not output == \"\":\n",
    "            output += \",\"\n",
    "        output += str(combo_operand(operand) % 8)\n",
    "    elif opcode == '6':\n",
    "        # bdv\n",
    "        B = A // pow(2,combo_operand(operand))\n",
    "    elif opcode == '7':\n",
    "        # cdv\n",
    "        C = A // pow(2,combo_operand(operand))           \n",
    "    ipointer += 4\n",
    "    if ipointer >= len(program):\n",
    "        break"
   ]
  },
  {
   "cell_type": "code",
   "execution_count": 6,
   "metadata": {},
   "outputs": [
    {
     "name": "stdout",
     "output_type": "stream",
     "text": [
      "5,0,3,5,7,6,1,5,4\n"
     ]
    }
   ],
   "source": [
    "print(output)"
   ]
  }
 ],
 "metadata": {
  "kernelspec": {
   "display_name": "venv",
   "language": "python",
   "name": "python3"
  },
  "language_info": {
   "codemirror_mode": {
    "name": "ipython",
    "version": 3
   },
   "file_extension": ".py",
   "mimetype": "text/x-python",
   "name": "python",
   "nbconvert_exporter": "python",
   "pygments_lexer": "ipython3",
   "version": "3.10.8"
  }
 },
 "nbformat": 4,
 "nbformat_minor": 2
}
