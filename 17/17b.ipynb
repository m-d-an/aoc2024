{
 "cells": [
  {
   "cell_type": "code",
   "execution_count": 16,
   "metadata": {},
   "outputs": [],
   "source": [
    "file = open('input/input.txt', 'r')\n",
    "lines = file.readlines()"
   ]
  },
  {
   "cell_type": "code",
   "execution_count": 17,
   "metadata": {},
   "outputs": [],
   "source": [
    "program = \"\""
   ]
  },
  {
   "cell_type": "code",
   "execution_count": 18,
   "metadata": {},
   "outputs": [],
   "source": [
    "\n",
    "for line in lines:\n",
    "    if line == \"\\n\":\n",
    "        continue\n",
    "    elif line.startswith(\"Program\"):\n",
    "        program = line.split()[1]\n",
    "    else:\n",
    "        continue"
   ]
  },
  {
   "cell_type": "markdown",
   "metadata": {},
   "source": [
    "### Part B:"
   ]
  },
  {
   "cell_type": "code",
   "execution_count": 19,
   "metadata": {},
   "outputs": [],
   "source": [
    "program_parts = []\n",
    "for i in range(len(program)):\n",
    "    if i % 2 == 0:\n",
    "        program_parts.append(program[i])"
   ]
  },
  {
   "cell_type": "code",
   "execution_count": 20,
   "metadata": {},
   "outputs": [],
   "source": [
    "def combo_operand(cop, A, B, C):\n",
    "    if cop >= 0 and cop <= 3:\n",
    "        return cop\n",
    "    elif cop == 4:\n",
    "        return A\n",
    "    elif cop == 5:\n",
    "        return B\n",
    "    elif cop == 6:\n",
    "        return C\n",
    "    else:\n",
    "        return None"
   ]
  },
  {
   "cell_type": "code",
   "execution_count": 21,
   "metadata": {},
   "outputs": [],
   "source": [
    "def run(A, part, a_values):\n",
    "    B = C = 0\n",
    "    ipointer = 0\n",
    "    output = \"\"\n",
    "    while True:\n",
    "        opcode = program[ipointer]\n",
    "        operand = int(program[ipointer+2])\n",
    "        if opcode == '0':\n",
    "            # adv instruction\n",
    "            A = A // pow(2,combo_operand(operand, A, B, C))\n",
    "        elif opcode == '1':\n",
    "            # bxl\n",
    "            B = B ^ operand\n",
    "        elif opcode == '2':\n",
    "            # bst\n",
    "            B = combo_operand(operand, A, B, C) % 8\n",
    "        elif opcode == '3':\n",
    "            # jnz\n",
    "            if A != 0:\n",
    "                # times 2 due to commas in string\n",
    "                # -4 due to increase at end of loop\n",
    "                ipointer = operand * 2 - 4\n",
    "        elif opcode == '4':\n",
    "            # bxc\n",
    "            B = B ^ C\n",
    "        elif opcode == '5':\n",
    "            # out\n",
    "            output = str(combo_operand(operand, A, B, C) % 8)\n",
    "            if output == part and A in a_values:\n",
    "                return output\n",
    "            else:\n",
    "                return None\n",
    "        elif opcode == '6':\n",
    "            # bdv\n",
    "            B = A // pow(2,combo_operand(operand, A, B, C))\n",
    "        elif opcode == '7':\n",
    "            # cdv\n",
    "            C = A // pow(2,combo_operand(operand, A, B, C))           \n",
    "        ipointer += 4\n",
    "        if ipointer >= len(program):\n",
    "            break\n",
    "    return None"
   ]
  },
  {
   "cell_type": "code",
   "execution_count": 22,
   "metadata": {},
   "outputs": [
    {
     "name": "stdout",
     "output_type": "stream",
     "text": [
      "0 [4]\n",
      "3 [37, 39]\n",
      "5 [299]\n",
      "5 [2394]\n",
      "4 [19152, 19153, 19154, 19157]\n",
      "4 [153216, 153217, 153220, 153225, 153228, 153232, 153233, 153234, 153236, 153257]\n",
      "3 [1225735, 1225743, 1225765, 1225767, 1225828, 1225862, 1225870, 1225875, 1225878, 1225893, 1225894]\n",
      "0 [9805880, 9805944, 9806120, 9806126, 9806136, 9806142, 9806898, 9806962, 9807000, 9807005, 9807026, 9807144, 9807150, 9807154, 9807158]\n",
      "5 [78447045, 78447557, 78447558, 78448965, 78449093, 78455191, 78455702, 78455703, 78456005, 78456043, 78456215, 78457157, 78457239, 78457268, 78457271]\n",
      "1 [627576364, 627580460, 627580468, 627591724, 627592748, 627641530, 627641531, 627641535, 627645623, 627645626, 627645627, 627645631, 627648044, 627648347, 627649722, 627649723, 627649727, 627657260, 627657914, 627657915]\n",
      "5 [5020643748, 5020643751, 5021132250, 5021164988, 5021164991, 5021165018, 5021186778, 5021197786, 5021263322]\n",
      "7 [40165149987, 40165149991, 40165150015]\n",
      "1 [321321199899, 321321199930, 321321199931, 321321199932, 321321200122, 321321200123, 321321200126]\n",
      "1 [2570569599195, 2570569599446, 2570569599451, 2570569599454, 2570569599462, 2570569600987]\n",
      "4 [20564556793561, 20564556793565, 20564556795568, 20564556795569, 20564556795609, 20564556795613, 20564556795632, 20564556795633, 20564556795696, 20564556795697, 20564556795702, 20564556807897, 20564556807901]\n",
      "2 [164516454365621]\n",
      "164516454365621\n",
      "\n"
     ]
    }
   ],
   "source": [
    "reg_a = 0\n",
    "a_values = [0]\n",
    "for part in reversed(program_parts):\n",
    "    new_values = []\n",
    "    for i in range(int((min(a_values)-100000)*7.999999), (int((min(a_values)+100000)*8.000001)), 1):\n",
    "        out = run(i, part, a_values)\n",
    "        if out is None and len(new_values) > 19:\n",
    "            break\n",
    "        if out is not None and out[0] == part:\n",
    "            #print(part, i, out)\n",
    "            new_values.append(i)\n",
    "    a_values = new_values\n",
    "    print(part, a_values)\n",
    "print(min(a_values))"
   ]
  }
 ],
 "metadata": {
  "kernelspec": {
   "display_name": "venv",
   "language": "python",
   "name": "python3"
  },
  "language_info": {
   "codemirror_mode": {
    "name": "ipython",
    "version": 3
   },
   "file_extension": ".py",
   "mimetype": "text/x-python",
   "name": "python",
   "nbconvert_exporter": "python",
   "pygments_lexer": "ipython3",
   "version": "3.10.8"
  }
 },
 "nbformat": 4,
 "nbformat_minor": 2
}
