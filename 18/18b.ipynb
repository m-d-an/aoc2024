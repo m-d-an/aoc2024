{
 "cells": [
  {
   "cell_type": "code",
   "execution_count": 1,
   "metadata": {},
   "outputs": [],
   "source": [
    "example = False"
   ]
  },
  {
   "cell_type": "code",
   "execution_count": 2,
   "metadata": {},
   "outputs": [],
   "source": [
    "if example:\n",
    "    file = open('input/example.txt', 'r')\n",
    "else:\n",
    "    file = open('input/input.txt', 'r')\n",
    "lines = file.readlines()"
   ]
  },
  {
   "cell_type": "code",
   "execution_count": 3,
   "metadata": {},
   "outputs": [],
   "source": [
    "if example:\n",
    "    max_x = 7\n",
    "    max_y = 7\n",
    "    number = 12\n",
    "else:\n",
    "    max_x = 71\n",
    "    max_y = 71\n",
    "    number = 1024"
   ]
  },
  {
   "cell_type": "code",
   "execution_count": 4,
   "metadata": {},
   "outputs": [],
   "source": [
    "def print_grid(positions):\n",
    "    for y in range(max_y):\n",
    "        line = \"\"\n",
    "        for x in range(max_x):\n",
    "            if (x,y) in positions:\n",
    "                line += '#'\n",
    "            else:\n",
    "                line += '.'\n",
    "        print(line)"
   ]
  },
  {
   "cell_type": "markdown",
   "metadata": {},
   "source": [
    "### Part B:"
   ]
  },
  {
   "cell_type": "code",
   "execution_count": 5,
   "metadata": {},
   "outputs": [],
   "source": [
    "start = (0,0)\n",
    "end = (max_x-1,max_y-1)\n",
    "move = [(-1,0),(1,0),(0,-1),(0,1)]"
   ]
  },
  {
   "cell_type": "code",
   "execution_count": 6,
   "metadata": {},
   "outputs": [],
   "source": [
    "def find_path(blocks):\n",
    "    visited_steps = {start: 0}\n",
    "    to_visit = [start]\n",
    "\n",
    "    while len(to_visit) > 0:\n",
    "        # next tile with shortest distance\n",
    "        tile = to_visit[0]\n",
    "        for node in to_visit:\n",
    "            if visited_steps[node] < visited_steps[tile]:\n",
    "                tile = node\n",
    "\n",
    "        # check neighbours\n",
    "        for m in move:\n",
    "            neighbour = (tile[0]+m[0],tile[1]+m[1])\n",
    "            if neighbour[0] < 0 or neighbour[1] < 0 or neighbour[0] >= max_x or neighbour[1] >= max_y:\n",
    "                continue\n",
    "            elif neighbour in blocks:\n",
    "                continue\n",
    "            else:\n",
    "                distance = visited_steps[tile] + 1\n",
    "                if not (neighbour in visited_steps) or distance < visited_steps[neighbour]:\n",
    "                    visited_steps[neighbour] = distance\n",
    "                    to_visit.append(neighbour)\n",
    "        # remove current tile\n",
    "        to_visit.remove(tile)\n",
    "\n",
    "    if end in visited_steps:\n",
    "        return True\n",
    "    else:\n",
    "        return False"
   ]
  },
  {
   "cell_type": "code",
   "execution_count": 7,
   "metadata": {},
   "outputs": [
    {
     "name": "stdout",
     "output_type": "stream",
     "text": [
      "3035 5,60\n",
      "\n"
     ]
    }
   ],
   "source": [
    "blocks = []\n",
    "i = number\n",
    "while True:\n",
    "    if number == 1:\n",
    "        print(i, lines[i-1])\n",
    "        break\n",
    "    blocks = []\n",
    "    for line in lines[:i]:\n",
    "        coords = line.strip().split(',')\n",
    "        blocks.append((int(coords[0]),int(coords[1])))\n",
    "    if find_path(blocks):\n",
    "        i += number\n",
    "    else:\n",
    "        i -= number // 2\n",
    "        number = number // 2"
   ]
  }
 ],
 "metadata": {
  "kernelspec": {
   "display_name": "venv",
   "language": "python",
   "name": "python3"
  },
  "language_info": {
   "codemirror_mode": {
    "name": "ipython",
    "version": 3
   },
   "file_extension": ".py",
   "mimetype": "text/x-python",
   "name": "python",
   "nbconvert_exporter": "python",
   "pygments_lexer": "ipython3",
   "version": "3.10.8"
  }
 },
 "nbformat": 4,
 "nbformat_minor": 2
}
