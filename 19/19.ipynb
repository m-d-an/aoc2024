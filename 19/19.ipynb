{
 "cells": [
  {
   "cell_type": "code",
   "execution_count": 1,
   "metadata": {},
   "outputs": [],
   "source": [
    "from functools import cache"
   ]
  },
  {
   "cell_type": "code",
   "execution_count": 2,
   "metadata": {},
   "outputs": [],
   "source": [
    "file = open('input/input.txt', 'r')\n",
    "lines = file.readlines()"
   ]
  },
  {
   "cell_type": "markdown",
   "metadata": {},
   "source": [
    "### Part A & B:"
   ]
  },
  {
   "cell_type": "code",
   "execution_count": 3,
   "metadata": {},
   "outputs": [],
   "source": [
    "towels = []"
   ]
  },
  {
   "cell_type": "code",
   "execution_count": 4,
   "metadata": {},
   "outputs": [],
   "source": [
    "@cache\n",
    "def check_design(design):\n",
    "    count = 0\n",
    "    if design == \"\":\n",
    "        return 1\n",
    "    for substring in towels:\n",
    "        if design.startswith(substring):\n",
    "            count += check_design(design[len(substring):])\n",
    "    return count"
   ]
  },
  {
   "cell_type": "code",
   "execution_count": 5,
   "metadata": {},
   "outputs": [
    {
     "name": "stdout",
     "output_type": "stream",
     "text": [
      "Part A: 276\n",
      "Part B: 681226908011510\n"
     ]
    }
   ],
   "source": [
    "count_possibilies = 0\n",
    "count_combinations = 0\n",
    "for i, line in enumerate(lines):\n",
    "    if i==0:\n",
    "        towels = line.strip().split(', ')\n",
    "    elif i>1:\n",
    "        #print(line.strip())\n",
    "        count_design = check_design(line.strip())\n",
    "        if count_design > 0:\n",
    "            count_possibilies += 1\n",
    "        count_combinations += count_design\n",
    "        #print(count_combinations)\n",
    "print(\"Part A: \"+str(count_possibilies))\n",
    "print(\"Part B: \"+str(count_combinations))"
   ]
  }
 ],
 "metadata": {
  "kernelspec": {
   "display_name": "venv",
   "language": "python",
   "name": "python3"
  },
  "language_info": {
   "codemirror_mode": {
    "name": "ipython",
    "version": 3
   },
   "file_extension": ".py",
   "mimetype": "text/x-python",
   "name": "python",
   "nbconvert_exporter": "python",
   "pygments_lexer": "ipython3",
   "version": "3.10.8"
  }
 },
 "nbformat": 4,
 "nbformat_minor": 2
}
