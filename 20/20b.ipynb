{
 "cells": [
  {
   "cell_type": "code",
   "execution_count": 1,
   "metadata": {},
   "outputs": [],
   "source": [
    "import heapq"
   ]
  },
  {
   "cell_type": "code",
   "execution_count": 2,
   "metadata": {},
   "outputs": [],
   "source": [
    "file = open('input/input.txt', 'r')\n",
    "lines = file.readlines()"
   ]
  },
  {
   "cell_type": "code",
   "execution_count": 3,
   "metadata": {},
   "outputs": [],
   "source": [
    "start = None\n",
    "end = None\n",
    "walls = []"
   ]
  },
  {
   "cell_type": "code",
   "execution_count": 4,
   "metadata": {},
   "outputs": [],
   "source": [
    "for r, row in enumerate(lines):\n",
    "    for c, char in enumerate(row):\n",
    "        if char == '#':\n",
    "            walls.append((r,c))\n",
    "        elif char == 'S':\n",
    "            start = (r, c)\n",
    "        elif char == 'E':\n",
    "            end = (r, c)"
   ]
  },
  {
   "cell_type": "code",
   "execution_count": 5,
   "metadata": {},
   "outputs": [],
   "source": [
    "def dijkstra(walls, start, end):\n",
    "    # right, down, left, up\n",
    "    directions = [(0, 1), (1, 0), (0, -1), (-1, 0)]  \n",
    "    # (cost, row, col, path)\n",
    "    queue = [(0, start[0], start[1], [(start[0],start[1],0)])]\n",
    "    visited = {}\n",
    "    paths = []\n",
    "\n",
    "    while queue:\n",
    "        cost, r, c, path = heapq.heappop(queue)\n",
    "        if (r, c) in visited and visited[(r, c)] < cost:\n",
    "            continue\n",
    "        visited[(r, c)] = cost\n",
    "\n",
    "        if (r, c) == end:\n",
    "            # save path and look further\n",
    "            paths.append((cost,path))\n",
    "            continue\n",
    "\n",
    "        # move\n",
    "        for dir in directions:\n",
    "            dr, dc = dir\n",
    "            nr, nc = r + dr, c + dc\n",
    "            if (nr,nc) not in walls:\n",
    "                heapq.heappush(queue, (cost + 1, nr, nc, path + [(nr, nc, cost + 1)]))\n",
    "\n",
    "    # get shortest paths\n",
    "    min_cost = min(x[0] for x in paths)\n",
    "    return [x for x in paths if x[0] == min_cost]"
   ]
  },
  {
   "cell_type": "code",
   "execution_count": 6,
   "metadata": {},
   "outputs": [],
   "source": [
    "shortest_paths = dijkstra(walls, start, end)\n",
    "cost_wo_cheats = shortest_paths[0][0]"
   ]
  },
  {
   "cell_type": "code",
   "execution_count": 7,
   "metadata": {},
   "outputs": [],
   "source": [
    "path_with_costs = {}\n",
    "for tuple in shortest_paths[0][1]:\n",
    "    path_with_costs[(tuple[0],tuple[1])] = tuple[2]"
   ]
  },
  {
   "cell_type": "code",
   "execution_count": 8,
   "metadata": {},
   "outputs": [],
   "source": [
    "def manhatten_distance(tile1, tile2):\n",
    "    return abs(tile1[0] - tile2[0]) + abs(tile1[1] - tile2[1])"
   ]
  },
  {
   "cell_type": "code",
   "execution_count": 9,
   "metadata": {},
   "outputs": [],
   "source": [
    "def get_shortcuts_for_cheat_length(max_cheat_length):\n",
    "    shortcuts = {}\n",
    "    for start_tile in path_with_costs.keys(): \n",
    "        for end_tile in path_with_costs:\n",
    "            if start_tile == end_tile:\n",
    "                continue\n",
    "            distance = manhatten_distance(start_tile, end_tile)\n",
    "            if distance <= max_cheat_length:\n",
    "                savings = path_with_costs[end_tile] - path_with_costs[start_tile] - distance\n",
    "                if (start_tile, end_tile) not in shortcuts or savings > shortcuts[(start_tile, end_tile)]:\n",
    "                    shortcuts[(start_tile, end_tile)] = savings   \n",
    "    return shortcuts"
   ]
  },
  {
   "cell_type": "code",
   "execution_count": 10,
   "metadata": {},
   "outputs": [
    {
     "name": "stdout",
     "output_type": "stream",
     "text": [
      "Part A: 1378\n"
     ]
    }
   ],
   "source": [
    "limit = 100\n",
    "shortcuts = get_shortcuts_for_cheat_length(2)\n",
    "print(\"Part A: \"+str(len([x for x in shortcuts.values() if x >= limit])))"
   ]
  },
  {
   "cell_type": "code",
   "execution_count": 11,
   "metadata": {},
   "outputs": [
    {
     "name": "stdout",
     "output_type": "stream",
     "text": [
      "Part B: 975379\n"
     ]
    }
   ],
   "source": [
    "shortcuts = get_shortcuts_for_cheat_length(20)\n",
    "print(\"Part B: \"+str(len([x for x in shortcuts.values() if x >= limit])))"
   ]
  }
 ],
 "metadata": {
  "kernelspec": {
   "display_name": "venv",
   "language": "python",
   "name": "python3"
  },
  "language_info": {
   "codemirror_mode": {
    "name": "ipython",
    "version": 3
   },
   "file_extension": ".py",
   "mimetype": "text/x-python",
   "name": "python",
   "nbconvert_exporter": "python",
   "pygments_lexer": "ipython3",
   "version": "3.10.8"
  }
 },
 "nbformat": 4,
 "nbformat_minor": 2
}
